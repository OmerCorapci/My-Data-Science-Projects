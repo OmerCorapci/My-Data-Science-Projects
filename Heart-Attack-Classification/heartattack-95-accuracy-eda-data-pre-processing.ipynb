{
 "cells": [
  {
   "cell_type": "markdown",
   "id": "e21a691e",
   "metadata": {
    "papermill": {
     "duration": 0.031274,
     "end_time": "2022-01-19T17:32:24.837311",
     "exception": false,
     "start_time": "2022-01-19T17:32:24.806037",
     "status": "completed"
    },
    "tags": []
   },
   "source": [
    "![Hello](https://iasbh.tmgrup.com.tr/8007eb/1200/627/0/0/800/417?u=https://isbh.tmgrup.com.tr/sbh/2019/11/22/erkeklerde-ve-kadinlarda-kalp-krizi-belirtileri-nelerdir-belirtiler-ne-zaman-baslar-1574422889186.jpg)"
   ]
  },
  {
   "cell_type": "markdown",
   "id": "22c24fa3",
   "metadata": {
    "papermill": {
     "duration": 0.029269,
     "end_time": "2022-01-19T17:32:24.896600",
     "exception": false,
     "start_time": "2022-01-19T17:32:24.867331",
     "status": "completed"
    },
    "tags": []
   },
   "source": [
    "# When it comes to being beaten to your heart, I always think of good things, not a heart attack: compassion, goodness, contentment, humility, truth and fairness... And a wish: May your heart be whole."
   ]
  },
  {
   "cell_type": "markdown",
   "id": "24545d82",
   "metadata": {
    "papermill": {
     "duration": 0.029331,
     "end_time": "2022-01-19T17:32:24.955627",
     "exception": false,
     "start_time": "2022-01-19T17:32:24.926296",
     "status": "completed"
    },
    "tags": []
   },
   "source": [
    "# **Information About Data**\n",
    "\n",
    "**Age :** Age of the patient\n",
    "\n",
    "**Sex :** Sex of the patient \n",
    "\n",
    "**exang:** exercise induced angina (1 = yes; 0 = no)\n",
    "\n",
    "**ca:** number of major vessels (0-3)\n",
    "\n",
    "**cp :** Chest Pain type chest pain type,\n",
    "\n",
    "*   Value 1: typical angina\n",
    "   \n",
    "*   Value 2: atypical angina\n",
    "   \n",
    "*   Value 3: non-anginal pain\n",
    "   \n",
    "*   Value 4: asymptomatic\n",
    "   \n",
    "**trtbps :** resting blood pressure (in mm Hg)\n",
    "\n",
    "**chol :** cholestoral in mg/dl fetched via BMI sensor\n",
    "\n",
    "**fbs :** (fasting blood sugar > 120 mg/dl) (1 = true; 0 = false)\n",
    "\n",
    "**rest_ecg :** resting electrocardiographic results\n",
    "   \n",
    "*   0= normal\n",
    "   \n",
    "*   1= having ST-T wave abnormality. (T wave inversions and/or ST elevation or depression of > 0.05 mV)\n",
    "   \n",
    "*   2= showing probable or definite left ventricular hypertrophy by Estes' criteria.\n",
    "\n",
    "**thalach :** maximum heart rate achieved.\n",
    "\n",
    "**target :** 0= less chance of heart attack, 1= more chance of heart attack."
   ]
  },
  {
   "cell_type": "markdown",
   "id": "e4688f44",
   "metadata": {
    "papermill": {
     "duration": 0.031198,
     "end_time": "2022-01-19T17:32:25.017792",
     "exception": false,
     "start_time": "2022-01-19T17:32:24.986594",
     "status": "completed"
    },
    "tags": []
   },
   "source": [
    "> Our task is to make a prediction about whether the patient will have a heart attack with the given variables. Let's start."
   ]
  },
  {
   "cell_type": "markdown",
   "id": "37b5fd45",
   "metadata": {
    "papermill": {
     "duration": 0.030106,
     "end_time": "2022-01-19T17:32:25.077560",
     "exception": false,
     "start_time": "2022-01-19T17:32:25.047454",
     "status": "completed"
    },
    "tags": []
   },
   "source": [
    "# **Importing libraries**"
   ]
  },
  {
   "cell_type": "code",
   "execution_count": 1,
   "id": "d177f7d2",
   "metadata": {
    "_cell_guid": "b1076dfc-b9ad-4769-8c92-a6c4dae69d19",
    "_uuid": "8f2839f25d086af736a60e9eeb907d3b93b6e0e5",
    "execution": {
     "iopub.execute_input": "2022-01-19T17:32:25.145441Z",
     "iopub.status.busy": "2022-01-19T17:32:25.144146Z",
     "iopub.status.idle": "2022-01-19T17:32:26.229645Z",
     "shell.execute_reply": "2022-01-19T17:32:26.230442Z",
     "shell.execute_reply.started": "2022-01-19T16:08:30.526483Z"
    },
    "papermill": {
     "duration": 1.120154,
     "end_time": "2022-01-19T17:32:26.230793",
     "exception": false,
     "start_time": "2022-01-19T17:32:25.110639",
     "status": "completed"
    },
    "tags": []
   },
   "outputs": [],
   "source": [
    "import numpy as np\n",
    "import pandas as pd\n",
    "\n",
    "import matplotlib.pyplot as plt\n",
    "import seaborn as sns\n",
    "\n",
    "import warnings\n",
    "warnings.filterwarnings(\"ignore\")"
   ]
  },
  {
   "cell_type": "markdown",
   "id": "b372594b",
   "metadata": {
    "papermill": {
     "duration": 0.029477,
     "end_time": "2022-01-19T17:32:26.290189",
     "exception": false,
     "start_time": "2022-01-19T17:32:26.260712",
     "status": "completed"
    },
    "tags": []
   },
   "source": [
    "# **Data pre-processing**"
   ]
  },
  {
   "cell_type": "code",
   "execution_count": 3,
   "id": "0de6643e",
   "metadata": {
    "execution": {
     "iopub.execute_input": "2022-01-19T17:32:26.353182Z",
     "iopub.status.busy": "2022-01-19T17:32:26.352475Z",
     "iopub.status.idle": "2022-01-19T17:32:26.375343Z",
     "shell.execute_reply": "2022-01-19T17:32:26.375908Z",
     "shell.execute_reply.started": "2022-01-19T16:08:31.599145Z"
    },
    "papermill": {
     "duration": 0.056116,
     "end_time": "2022-01-19T17:32:26.376090",
     "exception": false,
     "start_time": "2022-01-19T17:32:26.319974",
     "status": "completed"
    },
    "tags": []
   },
   "outputs": [],
   "source": [
    "df = pd.read_csv(\"heart.csv\") # Include of the dataset"
   ]
  },
  {
   "cell_type": "code",
   "execution_count": 3,
   "id": "fbbb8fcc",
   "metadata": {
    "execution": {
     "iopub.execute_input": "2022-01-19T17:32:26.440750Z",
     "iopub.status.busy": "2022-01-19T17:32:26.440046Z",
     "iopub.status.idle": "2022-01-19T17:32:26.445230Z",
     "shell.execute_reply": "2022-01-19T17:32:26.445956Z",
     "shell.execute_reply.started": "2022-01-19T16:08:31.626930Z"
    },
    "papermill": {
     "duration": 0.039138,
     "end_time": "2022-01-19T17:32:26.446214",
     "exception": false,
     "start_time": "2022-01-19T17:32:26.407076",
     "status": "completed"
    },
    "tags": []
   },
   "outputs": [
    {
     "name": "stdout",
     "output_type": "stream",
     "text": [
      "Data shape is:  (303, 14)\n"
     ]
    }
   ],
   "source": [
    "print(\"Data shape is: \",df.shape)"
   ]
  },
  {
   "cell_type": "code",
   "execution_count": 4,
   "id": "c5c5da3c",
   "metadata": {
    "execution": {
     "iopub.execute_input": "2022-01-19T17:32:26.516932Z",
     "iopub.status.busy": "2022-01-19T17:32:26.516107Z",
     "iopub.status.idle": "2022-01-19T17:32:26.531934Z",
     "shell.execute_reply": "2022-01-19T17:32:26.532558Z",
     "shell.execute_reply.started": "2022-01-19T16:08:31.634804Z"
    },
    "papermill": {
     "duration": 0.055346,
     "end_time": "2022-01-19T17:32:26.532762",
     "exception": false,
     "start_time": "2022-01-19T17:32:26.477416",
     "status": "completed"
    },
    "tags": []
   },
   "outputs": [
    {
     "data": {
      "text/html": [
       "<div>\n",
       "<style scoped>\n",
       "    .dataframe tbody tr th:only-of-type {\n",
       "        vertical-align: middle;\n",
       "    }\n",
       "\n",
       "    .dataframe tbody tr th {\n",
       "        vertical-align: top;\n",
       "    }\n",
       "\n",
       "    .dataframe thead th {\n",
       "        text-align: right;\n",
       "    }\n",
       "</style>\n",
       "<table border=\"1\" class=\"dataframe\">\n",
       "  <thead>\n",
       "    <tr style=\"text-align: right;\">\n",
       "      <th></th>\n",
       "      <th>age</th>\n",
       "      <th>sex</th>\n",
       "      <th>cp</th>\n",
       "      <th>trtbps</th>\n",
       "      <th>chol</th>\n",
       "      <th>fbs</th>\n",
       "      <th>restecg</th>\n",
       "      <th>thalachh</th>\n",
       "      <th>exng</th>\n",
       "      <th>oldpeak</th>\n",
       "      <th>slp</th>\n",
       "      <th>caa</th>\n",
       "      <th>thall</th>\n",
       "      <th>output</th>\n",
       "    </tr>\n",
       "  </thead>\n",
       "  <tbody>\n",
       "    <tr>\n",
       "      <th>0</th>\n",
       "      <td>63</td>\n",
       "      <td>1</td>\n",
       "      <td>3</td>\n",
       "      <td>145</td>\n",
       "      <td>233</td>\n",
       "      <td>1</td>\n",
       "      <td>0</td>\n",
       "      <td>150</td>\n",
       "      <td>0</td>\n",
       "      <td>2.3</td>\n",
       "      <td>0</td>\n",
       "      <td>0</td>\n",
       "      <td>1</td>\n",
       "      <td>1</td>\n",
       "    </tr>\n",
       "    <tr>\n",
       "      <th>1</th>\n",
       "      <td>37</td>\n",
       "      <td>1</td>\n",
       "      <td>2</td>\n",
       "      <td>130</td>\n",
       "      <td>250</td>\n",
       "      <td>0</td>\n",
       "      <td>1</td>\n",
       "      <td>187</td>\n",
       "      <td>0</td>\n",
       "      <td>3.5</td>\n",
       "      <td>0</td>\n",
       "      <td>0</td>\n",
       "      <td>2</td>\n",
       "      <td>1</td>\n",
       "    </tr>\n",
       "    <tr>\n",
       "      <th>2</th>\n",
       "      <td>41</td>\n",
       "      <td>0</td>\n",
       "      <td>1</td>\n",
       "      <td>130</td>\n",
       "      <td>204</td>\n",
       "      <td>0</td>\n",
       "      <td>0</td>\n",
       "      <td>172</td>\n",
       "      <td>0</td>\n",
       "      <td>1.4</td>\n",
       "      <td>2</td>\n",
       "      <td>0</td>\n",
       "      <td>2</td>\n",
       "      <td>1</td>\n",
       "    </tr>\n",
       "    <tr>\n",
       "      <th>3</th>\n",
       "      <td>56</td>\n",
       "      <td>1</td>\n",
       "      <td>1</td>\n",
       "      <td>120</td>\n",
       "      <td>236</td>\n",
       "      <td>0</td>\n",
       "      <td>1</td>\n",
       "      <td>178</td>\n",
       "      <td>0</td>\n",
       "      <td>0.8</td>\n",
       "      <td>2</td>\n",
       "      <td>0</td>\n",
       "      <td>2</td>\n",
       "      <td>1</td>\n",
       "    </tr>\n",
       "    <tr>\n",
       "      <th>4</th>\n",
       "      <td>57</td>\n",
       "      <td>0</td>\n",
       "      <td>0</td>\n",
       "      <td>120</td>\n",
       "      <td>354</td>\n",
       "      <td>0</td>\n",
       "      <td>1</td>\n",
       "      <td>163</td>\n",
       "      <td>1</td>\n",
       "      <td>0.6</td>\n",
       "      <td>2</td>\n",
       "      <td>0</td>\n",
       "      <td>2</td>\n",
       "      <td>1</td>\n",
       "    </tr>\n",
       "  </tbody>\n",
       "</table>\n",
       "</div>"
      ],
      "text/plain": [
       "   age  sex  cp  trtbps  chol  fbs  restecg  thalachh  exng  oldpeak  slp  \\\n",
       "0   63    1   3     145   233    1        0       150     0      2.3    0   \n",
       "1   37    1   2     130   250    0        1       187     0      3.5    0   \n",
       "2   41    0   1     130   204    0        0       172     0      1.4    2   \n",
       "3   56    1   1     120   236    0        1       178     0      0.8    2   \n",
       "4   57    0   0     120   354    0        1       163     1      0.6    2   \n",
       "\n",
       "   caa  thall  output  \n",
       "0    0      1       1  \n",
       "1    0      2       1  \n",
       "2    0      2       1  \n",
       "3    0      2       1  \n",
       "4    0      2       1  "
      ]
     },
     "execution_count": 4,
     "metadata": {},
     "output_type": "execute_result"
    }
   ],
   "source": [
    "df.head() # First 5 value"
   ]
  },
  {
   "cell_type": "code",
   "execution_count": 5,
   "id": "7f5498cf",
   "metadata": {
    "execution": {
     "iopub.execute_input": "2022-01-19T17:32:26.598206Z",
     "iopub.status.busy": "2022-01-19T17:32:26.597553Z",
     "iopub.status.idle": "2022-01-19T17:32:26.620710Z",
     "shell.execute_reply": "2022-01-19T17:32:26.621293Z",
     "shell.execute_reply.started": "2022-01-19T16:08:31.669186Z"
    },
    "papermill": {
     "duration": 0.057311,
     "end_time": "2022-01-19T17:32:26.621496",
     "exception": false,
     "start_time": "2022-01-19T17:32:26.564185",
     "status": "completed"
    },
    "tags": []
   },
   "outputs": [
    {
     "name": "stdout",
     "output_type": "stream",
     "text": [
      "<class 'pandas.core.frame.DataFrame'>\n",
      "RangeIndex: 303 entries, 0 to 302\n",
      "Data columns (total 14 columns):\n",
      " #   Column    Non-Null Count  Dtype  \n",
      "---  ------    --------------  -----  \n",
      " 0   age       303 non-null    int64  \n",
      " 1   sex       303 non-null    int64  \n",
      " 2   cp        303 non-null    int64  \n",
      " 3   trtbps    303 non-null    int64  \n",
      " 4   chol      303 non-null    int64  \n",
      " 5   fbs       303 non-null    int64  \n",
      " 6   restecg   303 non-null    int64  \n",
      " 7   thalachh  303 non-null    int64  \n",
      " 8   exng      303 non-null    int64  \n",
      " 9   oldpeak   303 non-null    float64\n",
      " 10  slp       303 non-null    int64  \n",
      " 11  caa       303 non-null    int64  \n",
      " 12  thall     303 non-null    int64  \n",
      " 13  output    303 non-null    int64  \n",
      "dtypes: float64(1), int64(13)\n",
      "memory usage: 33.3 KB\n"
     ]
    }
   ],
   "source": [
    "df.info() # Getting info of data"
   ]
  },
  {
   "cell_type": "markdown",
   "id": "38dc19bb",
   "metadata": {
    "papermill": {
     "duration": 0.030576,
     "end_time": "2022-01-19T17:32:26.683458",
     "exception": false,
     "start_time": "2022-01-19T17:32:26.652882",
     "status": "completed"
    },
    "tags": []
   },
   "source": [
    "**NOT:** As we can see don't have non values and our job gets easier as there are no null values. All value types is numerical but we know some values is categorical.We will use this information in the data visualization process. Now we can continue this adventure...\n",
    "\n",
    "**Categorical values:** \n",
    "* sex \n",
    "* exng\n",
    "* caa\n",
    "* cp\n",
    "* fbs\n",
    "* restecg\n",
    "* slp\n",
    "* thall\n"
   ]
  },
  {
   "cell_type": "code",
   "execution_count": 6,
   "id": "db8b7f45",
   "metadata": {
    "execution": {
     "iopub.execute_input": "2022-01-19T17:32:26.755115Z",
     "iopub.status.busy": "2022-01-19T17:32:26.753970Z",
     "iopub.status.idle": "2022-01-19T17:32:26.804683Z",
     "shell.execute_reply": "2022-01-19T17:32:26.804062Z",
     "shell.execute_reply.started": "2022-01-19T16:08:31.696690Z"
    },
    "papermill": {
     "duration": 0.090588,
     "end_time": "2022-01-19T17:32:26.804848",
     "exception": false,
     "start_time": "2022-01-19T17:32:26.714260",
     "status": "completed"
    },
    "tags": []
   },
   "outputs": [
    {
     "data": {
      "text/html": [
       "<div>\n",
       "<style scoped>\n",
       "    .dataframe tbody tr th:only-of-type {\n",
       "        vertical-align: middle;\n",
       "    }\n",
       "\n",
       "    .dataframe tbody tr th {\n",
       "        vertical-align: top;\n",
       "    }\n",
       "\n",
       "    .dataframe thead th {\n",
       "        text-align: right;\n",
       "    }\n",
       "</style>\n",
       "<table border=\"1\" class=\"dataframe\">\n",
       "  <thead>\n",
       "    <tr style=\"text-align: right;\">\n",
       "      <th></th>\n",
       "      <th>count</th>\n",
       "      <th>mean</th>\n",
       "      <th>std</th>\n",
       "      <th>min</th>\n",
       "      <th>25%</th>\n",
       "      <th>50%</th>\n",
       "      <th>75%</th>\n",
       "      <th>max</th>\n",
       "    </tr>\n",
       "  </thead>\n",
       "  <tbody>\n",
       "    <tr>\n",
       "      <th>age</th>\n",
       "      <td>303.0</td>\n",
       "      <td>54.366337</td>\n",
       "      <td>9.082101</td>\n",
       "      <td>29.0</td>\n",
       "      <td>47.5</td>\n",
       "      <td>55.0</td>\n",
       "      <td>61.0</td>\n",
       "      <td>77.0</td>\n",
       "    </tr>\n",
       "    <tr>\n",
       "      <th>sex</th>\n",
       "      <td>303.0</td>\n",
       "      <td>0.683168</td>\n",
       "      <td>0.466011</td>\n",
       "      <td>0.0</td>\n",
       "      <td>0.0</td>\n",
       "      <td>1.0</td>\n",
       "      <td>1.0</td>\n",
       "      <td>1.0</td>\n",
       "    </tr>\n",
       "    <tr>\n",
       "      <th>cp</th>\n",
       "      <td>303.0</td>\n",
       "      <td>0.966997</td>\n",
       "      <td>1.032052</td>\n",
       "      <td>0.0</td>\n",
       "      <td>0.0</td>\n",
       "      <td>1.0</td>\n",
       "      <td>2.0</td>\n",
       "      <td>3.0</td>\n",
       "    </tr>\n",
       "    <tr>\n",
       "      <th>trtbps</th>\n",
       "      <td>303.0</td>\n",
       "      <td>131.623762</td>\n",
       "      <td>17.538143</td>\n",
       "      <td>94.0</td>\n",
       "      <td>120.0</td>\n",
       "      <td>130.0</td>\n",
       "      <td>140.0</td>\n",
       "      <td>200.0</td>\n",
       "    </tr>\n",
       "    <tr>\n",
       "      <th>chol</th>\n",
       "      <td>303.0</td>\n",
       "      <td>246.264026</td>\n",
       "      <td>51.830751</td>\n",
       "      <td>126.0</td>\n",
       "      <td>211.0</td>\n",
       "      <td>240.0</td>\n",
       "      <td>274.5</td>\n",
       "      <td>564.0</td>\n",
       "    </tr>\n",
       "    <tr>\n",
       "      <th>fbs</th>\n",
       "      <td>303.0</td>\n",
       "      <td>0.148515</td>\n",
       "      <td>0.356198</td>\n",
       "      <td>0.0</td>\n",
       "      <td>0.0</td>\n",
       "      <td>0.0</td>\n",
       "      <td>0.0</td>\n",
       "      <td>1.0</td>\n",
       "    </tr>\n",
       "    <tr>\n",
       "      <th>restecg</th>\n",
       "      <td>303.0</td>\n",
       "      <td>0.528053</td>\n",
       "      <td>0.525860</td>\n",
       "      <td>0.0</td>\n",
       "      <td>0.0</td>\n",
       "      <td>1.0</td>\n",
       "      <td>1.0</td>\n",
       "      <td>2.0</td>\n",
       "    </tr>\n",
       "    <tr>\n",
       "      <th>thalachh</th>\n",
       "      <td>303.0</td>\n",
       "      <td>149.646865</td>\n",
       "      <td>22.905161</td>\n",
       "      <td>71.0</td>\n",
       "      <td>133.5</td>\n",
       "      <td>153.0</td>\n",
       "      <td>166.0</td>\n",
       "      <td>202.0</td>\n",
       "    </tr>\n",
       "    <tr>\n",
       "      <th>exng</th>\n",
       "      <td>303.0</td>\n",
       "      <td>0.326733</td>\n",
       "      <td>0.469794</td>\n",
       "      <td>0.0</td>\n",
       "      <td>0.0</td>\n",
       "      <td>0.0</td>\n",
       "      <td>1.0</td>\n",
       "      <td>1.0</td>\n",
       "    </tr>\n",
       "    <tr>\n",
       "      <th>oldpeak</th>\n",
       "      <td>303.0</td>\n",
       "      <td>1.039604</td>\n",
       "      <td>1.161075</td>\n",
       "      <td>0.0</td>\n",
       "      <td>0.0</td>\n",
       "      <td>0.8</td>\n",
       "      <td>1.6</td>\n",
       "      <td>6.2</td>\n",
       "    </tr>\n",
       "    <tr>\n",
       "      <th>slp</th>\n",
       "      <td>303.0</td>\n",
       "      <td>1.399340</td>\n",
       "      <td>0.616226</td>\n",
       "      <td>0.0</td>\n",
       "      <td>1.0</td>\n",
       "      <td>1.0</td>\n",
       "      <td>2.0</td>\n",
       "      <td>2.0</td>\n",
       "    </tr>\n",
       "    <tr>\n",
       "      <th>caa</th>\n",
       "      <td>303.0</td>\n",
       "      <td>0.729373</td>\n",
       "      <td>1.022606</td>\n",
       "      <td>0.0</td>\n",
       "      <td>0.0</td>\n",
       "      <td>0.0</td>\n",
       "      <td>1.0</td>\n",
       "      <td>4.0</td>\n",
       "    </tr>\n",
       "    <tr>\n",
       "      <th>thall</th>\n",
       "      <td>303.0</td>\n",
       "      <td>2.313531</td>\n",
       "      <td>0.612277</td>\n",
       "      <td>0.0</td>\n",
       "      <td>2.0</td>\n",
       "      <td>2.0</td>\n",
       "      <td>3.0</td>\n",
       "      <td>3.0</td>\n",
       "    </tr>\n",
       "    <tr>\n",
       "      <th>output</th>\n",
       "      <td>303.0</td>\n",
       "      <td>0.544554</td>\n",
       "      <td>0.498835</td>\n",
       "      <td>0.0</td>\n",
       "      <td>0.0</td>\n",
       "      <td>1.0</td>\n",
       "      <td>1.0</td>\n",
       "      <td>1.0</td>\n",
       "    </tr>\n",
       "  </tbody>\n",
       "</table>\n",
       "</div>"
      ],
      "text/plain": [
       "          count        mean        std    min    25%    50%    75%    max\n",
       "age       303.0   54.366337   9.082101   29.0   47.5   55.0   61.0   77.0\n",
       "sex       303.0    0.683168   0.466011    0.0    0.0    1.0    1.0    1.0\n",
       "cp        303.0    0.966997   1.032052    0.0    0.0    1.0    2.0    3.0\n",
       "trtbps    303.0  131.623762  17.538143   94.0  120.0  130.0  140.0  200.0\n",
       "chol      303.0  246.264026  51.830751  126.0  211.0  240.0  274.5  564.0\n",
       "fbs       303.0    0.148515   0.356198    0.0    0.0    0.0    0.0    1.0\n",
       "restecg   303.0    0.528053   0.525860    0.0    0.0    1.0    1.0    2.0\n",
       "thalachh  303.0  149.646865  22.905161   71.0  133.5  153.0  166.0  202.0\n",
       "exng      303.0    0.326733   0.469794    0.0    0.0    0.0    1.0    1.0\n",
       "oldpeak   303.0    1.039604   1.161075    0.0    0.0    0.8    1.6    6.2\n",
       "slp       303.0    1.399340   0.616226    0.0    1.0    1.0    2.0    2.0\n",
       "caa       303.0    0.729373   1.022606    0.0    0.0    0.0    1.0    4.0\n",
       "thall     303.0    2.313531   0.612277    0.0    2.0    2.0    3.0    3.0\n",
       "output    303.0    0.544554   0.498835    0.0    0.0    1.0    1.0    1.0"
      ]
     },
     "execution_count": 6,
     "metadata": {},
     "output_type": "execute_result"
    }
   ],
   "source": [
    "df.describe().transpose() # We are getting statistical values of data."
   ]
  },
  {
   "cell_type": "markdown",
   "id": "69df1801",
   "metadata": {
    "papermill": {
     "duration": 0.031223,
     "end_time": "2022-01-19T17:32:26.868214",
     "exception": false,
     "start_time": "2022-01-19T17:32:26.836991",
     "status": "completed"
    },
    "tags": []
   },
   "source": [
    "# **Data Visualization**"
   ]
  },
  {
   "cell_type": "code",
   "execution_count": 7,
   "id": "2b8f2dc3",
   "metadata": {
    "execution": {
     "iopub.execute_input": "2022-01-19T17:32:26.935987Z",
     "iopub.status.busy": "2022-01-19T17:32:26.934929Z",
     "iopub.status.idle": "2022-01-19T17:32:26.939456Z",
     "shell.execute_reply": "2022-01-19T17:32:26.940067Z",
     "shell.execute_reply.started": "2022-01-19T16:14:13.677214Z"
    },
    "papermill": {
     "duration": 0.040484,
     "end_time": "2022-01-19T17:32:26.940265",
     "exception": false,
     "start_time": "2022-01-19T17:32:26.899781",
     "status": "completed"
    },
    "tags": []
   },
   "outputs": [],
   "source": [
    "# For data visualization\n",
    "categorical = ['sex','exng','caa','cp','fbs','restecg','slp','thall']\n",
    "numerical = [\"age\",\"trtbps\",\"chol\",\"thalachh\",\"oldpeak\"]"
   ]
  },
  {
   "cell_type": "code",
   "execution_count": 8,
   "id": "2a8b123e",
   "metadata": {
    "execution": {
     "iopub.execute_input": "2022-01-19T17:32:27.007694Z",
     "iopub.status.busy": "2022-01-19T17:32:27.006644Z",
     "iopub.status.idle": "2022-01-19T17:32:27.680861Z",
     "shell.execute_reply": "2022-01-19T17:32:27.681415Z",
     "shell.execute_reply.started": "2022-01-19T16:27:03.426237Z"
    },
    "papermill": {
     "duration": 0.709934,
     "end_time": "2022-01-19T17:32:27.681605",
     "exception": false,
     "start_time": "2022-01-19T17:32:26.971671",
     "status": "completed"
    },
    "tags": []
   },
   "outputs": [
    {
     "data": {
      "image/png": "[encoded data removed]",
      "text/plain": [
       "<Figure size 1296x720 with 2 Axes>"
      ]
     },
     "metadata": {
      "needs_background": "light"
     },
     "output_type": "display_data"
    }
   ],
   "source": [
    "#Correlation Matrix\n",
    "\n",
    "f = plt.figure(figsize=(18, 10))\n",
    "plt.matshow(df.corr(), fignum=f.number)\n",
    "plt.xticks(range(df.select_dtypes(['number']).shape[1]), df.select_dtypes(['number']).columns, fontsize=16, rotation=45)\n",
    "plt.yticks(range(df.select_dtypes(['number']).shape[1]), df.select_dtypes(['number']).columns, fontsize=16)\n",
    "cb = plt.colorbar()\n",
    "cb.ax.tick_params(labelsize=16)\n",
    "plt.title('Correlation Matrix', fontsize=16);"
   ]
  },
  {
   "cell_type": "code",
   "execution_count": 9,
   "id": "bc5336f1",
   "metadata": {
    "execution": {
     "iopub.execute_input": "2022-01-19T17:32:27.752237Z",
     "iopub.status.busy": "2022-01-19T17:32:27.751226Z",
     "iopub.status.idle": "2022-01-19T17:32:28.994422Z",
     "shell.execute_reply": "2022-01-19T17:32:28.994962Z",
     "shell.execute_reply.started": "2022-01-19T16:08:32.444937Z"
    },
    "papermill": {
     "duration": 1.280011,
     "end_time": "2022-01-19T17:32:28.995146",
     "exception": false,
     "start_time": "2022-01-19T17:32:27.715135",
     "status": "completed"
    },
    "tags": []
   },
   "outputs": [
    {
     "data": {
      "image/png": "[encoded data removed]",
      "text/plain": [
       "<Figure size 1440x1440 with 9 Axes>"
      ]
     },
     "metadata": {
      "needs_background": "light"
     },
     "output_type": "display_data"
    }
   ],
   "source": [
    "# We have 9 collon so we create 9 figures.(ax0, ax1, ..., ax8)\n",
    "\n",
    "fig = plt.figure(figsize=(20,20))\n",
    "\n",
    "gr = fig.add_gridspec(3,3)\n",
    "\n",
    "ax0 = fig.add_subplot(gr[0,0])\n",
    "ax1 = fig.add_subplot(gr[0,1])\n",
    "ax2 = fig.add_subplot(gr[0,2])\n",
    "ax3 = fig.add_subplot(gr[1,0])\n",
    "ax4 = fig.add_subplot(gr[1,1])\n",
    "ax5 = fig.add_subplot(gr[1,2])\n",
    "ax6 = fig.add_subplot(gr[2,0])\n",
    "ax7 = fig.add_subplot(gr[2,1])\n",
    "ax8 = fig.add_subplot(gr[2,2])\n",
    "\n",
    "axxes = [ax0,ax1,ax2,ax3,ax4,ax5,ax6,ax7]\n",
    "\n",
    "for i in range(0,len(categorical)):\n",
    "    axxes[i].grid(color='#000000', linestyle=':', axis='y')\n",
    "    sns.countplot(ax=axxes[i],data=df,x=df[categorical[i]],palette=[\"#\"+str(i)+str(i)+\"5353\"]) #so that the figures change colors in each cycle\n",
    "#NOT: if str(i) is greater than 9 it will throw an error, be careful\n",
    "    \n",
    "#ax8 is target colon \n",
    "ax8.grid(color='#000000', linestyle=':', axis='y')\n",
    "sns.countplot(ax=ax8,data=df,x=df[\"output\"],palette=[\"#53535353\"])\n",
    "ax8.set_xticklabels([\"Low chances of attack(0)\",\"High chances of attack(1)\"])\n",
    "ax8.set_facecolor(\"#FF5353\") "
   ]
  },
  {
   "cell_type": "code",
   "execution_count": 10,
   "id": "cc482c69",
   "metadata": {
    "execution": {
     "iopub.execute_input": "2022-01-19T17:32:29.071593Z",
     "iopub.status.busy": "2022-01-19T17:32:29.070828Z",
     "iopub.status.idle": "2022-01-19T17:32:29.882652Z",
     "shell.execute_reply": "2022-01-19T17:32:29.881962Z",
     "shell.execute_reply.started": "2022-01-19T16:08:33.677268Z"
    },
    "papermill": {
     "duration": 0.851324,
     "end_time": "2022-01-19T17:32:29.882813",
     "exception": false,
     "start_time": "2022-01-19T17:32:29.031489",
     "status": "completed"
    },
    "tags": []
   },
   "outputs": [
    {
     "data": {
      "image/png": "[encoded data removed]",
      "text/plain": [
       "<Figure size 1440x1440 with 5 Axes>"
      ]
     },
     "metadata": {
      "needs_background": "light"
     },
     "output_type": "display_data"
    }
   ],
   "source": [
    "fig = plt.figure(figsize=(20,20))\n",
    "\n",
    "gr = fig.add_gridspec(2,3)\n",
    "\n",
    "ax0 = fig.add_subplot(gr[0,0])\n",
    "ax1 = fig.add_subplot(gr[0,1])\n",
    "ax2 = fig.add_subplot(gr[0,2])\n",
    "ax3 = fig.add_subplot(gr[1,0])\n",
    "ax4 = fig.add_subplot(gr[1,1])\n",
    "axxes = [ax0,ax1,ax2,ax3,ax4]\n",
    "\n",
    "for i in range(0,len(numerical)):\n",
    "    axxes[i].grid(color='#000000', linestyle=':', axis='y')\n",
    "    sns.boxenplot(ax=axxes[i],y=df[numerical[i]],palette=[\"#\"+str(i*2)+\"00000\"],width=0.6)\n",
    "#if str(i)*2 is greater than 9 it will throw an error, be careful"
   ]
  },
  {
   "cell_type": "markdown",
   "id": "86c4d68f",
   "metadata": {
    "papermill": {
     "duration": 0.036621,
     "end_time": "2022-01-19T17:32:29.957360",
     "exception": false,
     "start_time": "2022-01-19T17:32:29.920739",
     "status": "completed"
    },
    "tags": []
   },
   "source": [
    "# If the discrete values were more, we would get rid of the discrete data by making use of the statistical information (df.describe) of the data,but it is not necessary because there are very few discrete values."
   ]
  },
  {
   "cell_type": "markdown",
   "id": "cb3f1010",
   "metadata": {
    "papermill": {
     "duration": 0.037372,
     "end_time": "2022-01-19T17:32:30.032122",
     "exception": false,
     "start_time": "2022-01-19T17:32:29.994750",
     "status": "completed"
    },
    "tags": []
   },
   "source": [
    "# **Modelling and Predictions of models**"
   ]
  },
  {
   "cell_type": "code",
   "execution_count": 11,
   "id": "6f2ebdb8",
   "metadata": {
    "execution": {
     "iopub.execute_input": "2022-01-19T17:32:30.111388Z",
     "iopub.status.busy": "2022-01-19T17:32:30.110369Z",
     "iopub.status.idle": "2022-01-19T17:32:30.117719Z",
     "shell.execute_reply": "2022-01-19T17:32:30.118301Z",
     "shell.execute_reply.started": "2022-01-19T16:46:58.759300Z"
    },
    "papermill": {
     "duration": 0.048425,
     "end_time": "2022-01-19T17:32:30.118536",
     "exception": false,
     "start_time": "2022-01-19T17:32:30.070111",
     "status": "completed"
    },
    "tags": []
   },
   "outputs": [
    {
     "name": "stdout",
     "output_type": "stream",
     "text": [
      "Shape of X: (303, 13) \n",
      "Shape of Y: (303, 1)\n"
     ]
    }
   ],
   "source": [
    "X = df.iloc[:,:-1] # We get all but the output column\n",
    "y = pd.DataFrame(df[\"output\"]) # We get output column\n",
    "\n",
    "print(\"Shape of X:\",X.shape,\"\\nShape of Y:\",y.shape)"
   ]
  },
  {
   "cell_type": "code",
   "execution_count": 12,
   "id": "1780f8de",
   "metadata": {
    "execution": {
     "iopub.execute_input": "2022-01-19T17:32:30.197627Z",
     "iopub.status.busy": "2022-01-19T17:32:30.196860Z",
     "iopub.status.idle": "2022-01-19T17:32:30.391475Z",
     "shell.execute_reply": "2022-01-19T17:32:30.390809Z",
     "shell.execute_reply.started": "2022-01-19T16:08:34.470895Z"
    },
    "papermill": {
     "duration": 0.235079,
     "end_time": "2022-01-19T17:32:30.391621",
     "exception": false,
     "start_time": "2022-01-19T17:32:30.156542",
     "status": "completed"
    },
    "tags": []
   },
   "outputs": [],
   "source": [
    "#Splitting of data.(train and test)\n",
    "from sklearn.model_selection import train_test_split\n",
    "x_train, x_test, y_train, y_test = train_test_split(X,y, test_size = 0.15, random_state = 53)"
   ]
  },
  {
   "cell_type": "code",
   "execution_count": 13,
   "id": "e1b54b00",
   "metadata": {
    "execution": {
     "iopub.execute_input": "2022-01-19T17:32:30.474094Z",
     "iopub.status.busy": "2022-01-19T17:32:30.473386Z",
     "iopub.status.idle": "2022-01-19T17:32:30.476102Z",
     "shell.execute_reply": "2022-01-19T17:32:30.476654Z",
     "shell.execute_reply.started": "2022-01-19T16:49:15.556938Z"
    },
    "papermill": {
     "duration": 0.047511,
     "end_time": "2022-01-19T17:32:30.476841",
     "exception": false,
     "start_time": "2022-01-19T17:32:30.429330",
     "status": "completed"
    },
    "tags": []
   },
   "outputs": [
    {
     "name": "stdout",
     "output_type": "stream",
     "text": [
      "Shape of x train: (257, 13) \n",
      "Shape of y train: (257, 1)\n",
      "Shape of x test: (46, 13) \n",
      "Shape of y test: (46, 1)\n"
     ]
    }
   ],
   "source": [
    "print(\"Shape of x train:\",x_train.shape,\"\\nShape of y train:\", y_train.shape)\n",
    "print(\"Shape of x test:\",x_test.shape,\"\\nShape of y test:\", y_test.shape)"
   ]
  },
  {
   "cell_type": "code",
   "execution_count": 14,
   "id": "701a70ff",
   "metadata": {
    "execution": {
     "iopub.execute_input": "2022-01-19T17:32:30.557649Z",
     "iopub.status.busy": "2022-01-19T17:32:30.556897Z",
     "iopub.status.idle": "2022-01-19T17:32:30.558921Z",
     "shell.execute_reply": "2022-01-19T17:32:30.559442Z",
     "shell.execute_reply.started": "2022-01-19T16:08:34.669458Z"
    },
    "papermill": {
     "duration": 0.044995,
     "end_time": "2022-01-19T17:32:30.559623",
     "exception": false,
     "start_time": "2022-01-19T17:32:30.514628",
     "status": "completed"
    },
    "tags": []
   },
   "outputs": [],
   "source": [
    "# Importing metrics libraries of sklearn\n",
    "from sklearn.metrics import accuracy_score, roc_auc_score, f1_score"
   ]
  },
  {
   "cell_type": "markdown",
   "id": "51b60ac5",
   "metadata": {
    "papermill": {
     "duration": 0.037423,
     "end_time": "2022-01-19T17:32:30.635001",
     "exception": false,
     "start_time": "2022-01-19T17:32:30.597578",
     "status": "completed"
    },
    "tags": []
   },
   "source": [
    "**StandardScaler**\n",
    "\n",
    "Standardize features by removing the mean and scaling to unit variance.\n",
    "\n",
    "The standard score of a sample x is calculated as:\n",
    "\n",
    "z = (x - u) / s\n",
    "\n",
    "where u is the mean of the training samples or zero if with_mean=False, and s is the standard deviation of the training samples or one if with_std=False."
   ]
  },
  {
   "cell_type": "code",
   "execution_count": 15,
   "id": "a04c1e7b",
   "metadata": {
    "execution": {
     "iopub.execute_input": "2022-01-19T17:32:30.715858Z",
     "iopub.status.busy": "2022-01-19T17:32:30.715178Z",
     "iopub.status.idle": "2022-01-19T17:32:30.726276Z",
     "shell.execute_reply": "2022-01-19T17:32:30.725687Z",
     "shell.execute_reply.started": "2022-01-19T16:08:34.678970Z"
    },
    "papermill": {
     "duration": 0.052449,
     "end_time": "2022-01-19T17:32:30.726450",
     "exception": false,
     "start_time": "2022-01-19T17:32:30.674001",
     "status": "completed"
    },
    "tags": []
   },
   "outputs": [],
   "source": [
    "from sklearn.preprocessing import StandardScaler\n",
    "scaler = StandardScaler()\n",
    "\n",
    "x_train = scaler.fit_transform(x_train)\n",
    "x_test = scaler.transform(x_test)"
   ]
  },
  {
   "cell_type": "markdown",
   "id": "ad8b66cd",
   "metadata": {
    "papermill": {
     "duration": 0.037641,
     "end_time": "2022-01-19T17:32:30.802729",
     "exception": false,
     "start_time": "2022-01-19T17:32:30.765088",
     "status": "completed"
    },
    "tags": []
   },
   "source": [
    "NOT: We are creating a new dataset because we will examine many models and there will be many metric scoring to evaluate them collectively."
   ]
  },
  {
   "cell_type": "code",
   "execution_count": 16,
   "id": "30cf3ec5",
   "metadata": {
    "execution": {
     "iopub.execute_input": "2022-01-19T17:32:30.885787Z",
     "iopub.status.busy": "2022-01-19T17:32:30.885068Z",
     "iopub.status.idle": "2022-01-19T17:32:30.888526Z",
     "shell.execute_reply": "2022-01-19T17:32:30.887835Z",
     "shell.execute_reply.started": "2022-01-19T16:08:34.696688Z"
    },
    "papermill": {
     "duration": 0.048184,
     "end_time": "2022-01-19T17:32:30.888680",
     "exception": false,
     "start_time": "2022-01-19T17:32:30.840496",
     "status": "completed"
    },
    "tags": []
   },
   "outputs": [],
   "source": [
    "acc_df = pd.DataFrame(columns=[\"Name\", \"Accuracy_score\", \"AUC_score\", \"F1_score\"])"
   ]
  },
  {
   "cell_type": "markdown",
   "id": "4828a5cf",
   "metadata": {
    "papermill": {
     "duration": 0.037354,
     "end_time": "2022-01-19T17:32:30.963949",
     "exception": false,
     "start_time": "2022-01-19T17:32:30.926595",
     "status": "completed"
    },
    "tags": []
   },
   "source": [
    "The advantages of support vector machines are:\n",
    "\n",
    "* Effective in high dimensional spaces.\n",
    "\n",
    "* Still effective in cases where number of dimensions is greater than the number of samples.\n",
    "\n",
    "* Uses a subset of training points in the decision function (called support vectors), so it is also memory efficient.\n",
    "\n",
    "* Versatile: different Kernel functions can be specified for the decision function. Common kernels are provided, but it is also possible to specify custom kernels.\n",
    "\n",
    "The disadvantages of support vector machines include:\n",
    "\n",
    "* If the number of features is much greater than the number of samples, avoid over-fitting in choosing Kernel functions and regularization term is crucial.\n",
    "\n",
    "* SVMs do not directly provide probability estimates, these are calculated using an expensive five-fold cross-validation (see Scores and probabilities, below)."
   ]
  },
  {
   "cell_type": "code",
   "execution_count": 17,
   "id": "7dd8bffd",
   "metadata": {
    "execution": {
     "iopub.execute_input": "2022-01-19T17:32:31.053967Z",
     "iopub.status.busy": "2022-01-19T17:32:31.053124Z",
     "iopub.status.idle": "2022-01-19T17:32:31.155863Z",
     "shell.execute_reply": "2022-01-19T17:32:31.155204Z",
     "shell.execute_reply.started": "2022-01-19T16:08:34.706262Z"
    },
    "papermill": {
     "duration": 0.153254,
     "end_time": "2022-01-19T17:32:31.156028",
     "exception": false,
     "start_time": "2022-01-19T17:32:31.002774",
     "status": "completed"
    },
    "tags": []
   },
   "outputs": [
    {
     "name": "stdout",
     "output_type": "stream",
     "text": [
      "The test accuracy score is  0.8695652173913043\n",
      "The test AUC score is 0.8693181818181819\n",
      "The test F1 score is 0.8636363636363636\n"
     ]
    }
   ],
   "source": [
    "from sklearn.svm import SVC\n",
    "\n",
    "model = SVC().fit(x_train,y_train)\n",
    "y_pred = model.predict(x_test)\n",
    "\n",
    "acc = accuracy_score(y_test, y_pred)\n",
    "auc = roc_auc_score(y_test, y_pred)\n",
    "f1 = f1_score(y_test, y_pred)\n",
    "print(\"The test accuracy score is \", acc)\n",
    "print(\"The test AUC score is\", auc)\n",
    "print(\"The test F1 score is\", f1)\n",
    "\n",
    "a_series = pd.Series([\"SVC\", acc, auc, f1], index = acc_df.columns)\n",
    "acc_df = acc_df.append(a_series, ignore_index=True)"
   ]
  },
  {
   "cell_type": "markdown",
   "id": "96814482",
   "metadata": {
    "papermill": {
     "duration": 0.037917,
     "end_time": "2022-01-19T17:32:31.232262",
     "exception": false,
     "start_time": "2022-01-19T17:32:31.194345",
     "status": "completed"
    },
    "tags": []
   },
   "source": [
    "**Logistic Regression** is a classification algorithm. It is used to predict a binary outcome (1 / 0, Yes / No, True / False) given a set of independent variables. To represent binary/categorical outcome, we use dummy variables. You can also think of logistic regression as a special case of linear regression when the outcome variable is categorical, where we are using log of odds as dependent variable. In simple words, it predicts the probability of occurrence of an event by fitting data to a logit function."
   ]
  },
  {
   "cell_type": "code",
   "execution_count": 18,
   "id": "ab62cf34",
   "metadata": {
    "execution": {
     "iopub.execute_input": "2022-01-19T17:32:31.328862Z",
     "iopub.status.busy": "2022-01-19T17:32:31.325566Z",
     "iopub.status.idle": "2022-01-19T17:32:31.339253Z",
     "shell.execute_reply": "2022-01-19T17:32:31.338617Z",
     "shell.execute_reply.started": "2022-01-19T16:08:34.810012Z"
    },
    "papermill": {
     "duration": 0.068792,
     "end_time": "2022-01-19T17:32:31.339414",
     "exception": false,
     "start_time": "2022-01-19T17:32:31.270622",
     "status": "completed"
    },
    "tags": []
   },
   "outputs": [
    {
     "name": "stdout",
     "output_type": "stream",
     "text": [
      "The test accuracy score is  0.8695652173913043\n",
      "The test AUC score is 0.8712121212121213\n",
      "The test F1 score is 0.8695652173913043\n"
     ]
    }
   ],
   "source": [
    "from sklearn.linear_model import LogisticRegression\n",
    "\n",
    "model = LogisticRegression().fit(x_train, y_train)\n",
    "y_pred = model.predict(x_test)\n",
    "\n",
    "acc = accuracy_score(y_test, y_pred)\n",
    "auc = roc_auc_score(y_test, y_pred)\n",
    "f1 = f1_score(y_test, y_pred)\n",
    "\n",
    "print(\"The test accuracy score is \", acc)\n",
    "print(\"The test AUC score is\", auc)\n",
    "print(\"The test F1 score is\", f1)\n",
    "\n",
    "a_series = pd.Series([\"LogisticRegression\", acc, auc, f1], index = acc_df.columns)\n",
    "acc_df = acc_df.append(a_series, ignore_index=True)"
   ]
  },
  {
   "cell_type": "markdown",
   "id": "058db7d6",
   "metadata": {
    "papermill": {
     "duration": 0.038285,
     "end_time": "2022-01-19T17:32:31.417201",
     "exception": false,
     "start_time": "2022-01-19T17:32:31.378916",
     "status": "completed"
    },
    "tags": []
   },
   "source": [
    "**Gaussian Naive Bayes** supports continuous valued features and models each as conforming to a Gaussian (normal) distribution.\n",
    "An approach to create a simple model is to assume that the data is described by a Gaussian distribution with no co-variance (independent dimensions) between dimensions. This model can be fit by simply finding the mean and standard deviation of the points within each label."
   ]
  },
  {
   "cell_type": "code",
   "execution_count": 19,
   "id": "46221b01",
   "metadata": {
    "execution": {
     "iopub.execute_input": "2022-01-19T17:32:31.503210Z",
     "iopub.status.busy": "2022-01-19T17:32:31.502055Z",
     "iopub.status.idle": "2022-01-19T17:32:31.519409Z",
     "shell.execute_reply": "2022-01-19T17:32:31.518787Z",
     "shell.execute_reply.started": "2022-01-19T16:08:34.838934Z"
    },
    "papermill": {
     "duration": 0.063805,
     "end_time": "2022-01-19T17:32:31.519578",
     "exception": false,
     "start_time": "2022-01-19T17:32:31.455773",
     "status": "completed"
    },
    "tags": []
   },
   "outputs": [
    {
     "name": "stdout",
     "output_type": "stream",
     "text": [
      "The test accuracy score is  0.8695652173913043\n",
      "The test AUC score is 0.8693181818181819\n",
      "The test F1 score is 0.8636363636363636\n"
     ]
    }
   ],
   "source": [
    "from sklearn.naive_bayes import GaussianNB\n",
    "\n",
    "model = GaussianNB().fit(x_train, y_train)\n",
    "y_pred = model.predict(x_test)\n",
    "\n",
    "acc = accuracy_score(y_test, y_pred)\n",
    "auc = roc_auc_score(y_test, y_pred)\n",
    "f1 = f1_score(y_test, y_pred)\n",
    "\n",
    "print(\"The test accuracy score is \", acc)\n",
    "print(\"The test AUC score is\", auc)\n",
    "print(\"The test F1 score is\", f1)\n",
    "\n",
    "a_series = pd.Series([\"GaussianNB\", acc, auc, f1], index = acc_df.columns)\n",
    "acc_df = acc_df.append(a_series, ignore_index=True)"
   ]
  },
  {
   "cell_type": "markdown",
   "id": "cbfdceae",
   "metadata": {
    "papermill": {
     "duration": 0.039168,
     "end_time": "2022-01-19T17:32:31.597855",
     "exception": false,
     "start_time": "2022-01-19T17:32:31.558687",
     "status": "completed"
    },
    "tags": []
   },
   "source": [
    "Naive Bayes classifier for multivariate Bernoulli models.\n",
    "\n",
    "Like **MultinomialNB**, this classifier is suitable for discrete data. The difference is that while MultinomialNB works with occurrence counts, BernoulliNB is designed for binary/boolean features."
   ]
  },
  {
   "cell_type": "code",
   "execution_count": 20,
   "id": "f05c1e36",
   "metadata": {
    "execution": {
     "iopub.execute_input": "2022-01-19T17:32:31.691749Z",
     "iopub.status.busy": "2022-01-19T17:32:31.682779Z",
     "iopub.status.idle": "2022-01-19T17:32:31.696085Z",
     "shell.execute_reply": "2022-01-19T17:32:31.695428Z",
     "shell.execute_reply.started": "2022-01-19T16:08:34.860898Z"
    },
    "papermill": {
     "duration": 0.059777,
     "end_time": "2022-01-19T17:32:31.696250",
     "exception": false,
     "start_time": "2022-01-19T17:32:31.636473",
     "status": "completed"
    },
    "tags": []
   },
   "outputs": [
    {
     "name": "stdout",
     "output_type": "stream",
     "text": [
      "The test accuracy score is  0.9565217391304348\n",
      "The test AUC score is 0.956439393939394\n",
      "The test F1 score is 0.9545454545454546\n"
     ]
    }
   ],
   "source": [
    "from sklearn.naive_bayes import BernoulliNB\n",
    "\n",
    "model = BernoulliNB().fit(x_train, y_train)\n",
    "y_pred = model.predict(x_test)\n",
    "\n",
    "acc = accuracy_score(y_test, y_pred)\n",
    "auc = roc_auc_score(y_test, y_pred)\n",
    "f1 = f1_score(y_test, y_pred)\n",
    "\n",
    "print(\"The test accuracy score is \", acc)\n",
    "print(\"The test AUC score is\", auc)\n",
    "print(\"The test F1 score is\", f1)\n",
    "\n",
    "a_series = pd.Series([\"BernoulliNB\", acc, auc, f1], index = acc_df.columns)\n",
    "acc_df = acc_df.append(a_series, ignore_index=True)"
   ]
  },
  {
   "cell_type": "markdown",
   "id": "fdfc2aee",
   "metadata": {
    "papermill": {
     "duration": 0.038885,
     "end_time": "2022-01-19T17:32:31.774920",
     "exception": false,
     "start_time": "2022-01-19T17:32:31.736035",
     "status": "completed"
    },
    "tags": []
   },
   "source": [
    "**Random Forest Classifier.**\n",
    "\n",
    "A random forest is a meta estimator that fits a number of decision tree classifiers on various sub-samples of the dataset and uses averaging to improve the predictive accuracy and control over-fitting. The sub-sample size is controlled with the max_samples parameter if bootstrap=True (default), otherwise the whole dataset is used to build each tree."
   ]
  },
  {
   "cell_type": "code",
   "execution_count": 21,
   "id": "4b147c09",
   "metadata": {
    "execution": {
     "iopub.execute_input": "2022-01-19T17:32:31.862567Z",
     "iopub.status.busy": "2022-01-19T17:32:31.861730Z",
     "iopub.status.idle": "2022-01-19T17:32:32.187012Z",
     "shell.execute_reply": "2022-01-19T17:32:32.187566Z",
     "shell.execute_reply.started": "2022-01-19T16:08:34.883704Z"
    },
    "papermill": {
     "duration": 0.373329,
     "end_time": "2022-01-19T17:32:32.187750",
     "exception": false,
     "start_time": "2022-01-19T17:32:31.814421",
     "status": "completed"
    },
    "tags": []
   },
   "outputs": [
    {
     "name": "stdout",
     "output_type": "stream",
     "text": [
      "The test accuracy score is  0.9347826086956522\n",
      "The test AUC score is 0.9337121212121212\n",
      "The test F1 score is 0.9302325581395349\n"
     ]
    }
   ],
   "source": [
    "from sklearn.ensemble import RandomForestClassifier\n",
    "\n",
    "model = RandomForestClassifier(n_estimators = 100, max_depth=4).fit(x_train, y_train)  \n",
    "y_pred = model.predict(x_test)\n",
    "\n",
    "\n",
    "acc = accuracy_score(y_test, y_pred)\n",
    "auc = roc_auc_score(y_test, y_pred)\n",
    "f1 = f1_score(y_test, y_pred)\n",
    "\n",
    "print(\"The test accuracy score is \", acc)\n",
    "print(\"The test AUC score is\", auc)\n",
    "print(\"The test F1 score is\", f1)\n",
    "\n",
    "a_series = pd.Series([\"RandomForest\", acc, auc, f1], index = acc_df.columns)\n",
    "acc_df = acc_df.append(a_series, ignore_index=True)"
   ]
  },
  {
   "cell_type": "markdown",
   "id": "4db8062f",
   "metadata": {
    "papermill": {
     "duration": 0.039219,
     "end_time": "2022-01-19T17:32:32.266778",
     "exception": false,
     "start_time": "2022-01-19T17:32:32.227559",
     "status": "completed"
    },
    "tags": []
   },
   "source": [
    "Classifier implementing the **k-nearest neighbors** vote."
   ]
  },
  {
   "cell_type": "code",
   "execution_count": 22,
   "id": "0719ea3b",
   "metadata": {
    "execution": {
     "iopub.execute_input": "2022-01-19T17:32:32.359656Z",
     "iopub.status.busy": "2022-01-19T17:32:32.358542Z",
     "iopub.status.idle": "2022-01-19T17:32:32.374126Z",
     "shell.execute_reply": "2022-01-19T17:32:32.372965Z",
     "shell.execute_reply.started": "2022-01-19T16:08:35.230425Z"
    },
    "papermill": {
     "duration": 0.067498,
     "end_time": "2022-01-19T17:32:32.374407",
     "exception": false,
     "start_time": "2022-01-19T17:32:32.306909",
     "status": "completed"
    },
    "tags": []
   },
   "outputs": [
    {
     "name": "stdout",
     "output_type": "stream",
     "text": [
      "The test accuracy score is  0.8913043478260869\n",
      "The test AUC score is 0.8901515151515152\n",
      "The test F1 score is 0.8837209302325582\n"
     ]
    }
   ],
   "source": [
    "from sklearn.neighbors import KNeighborsClassifier\n",
    "\n",
    "model = KNeighborsClassifier(n_neighbors= 4).fit(x_train, y_train)  \n",
    "y_pred = model.predict(x_test)\n",
    "\n",
    "acc = accuracy_score(y_test, y_pred)\n",
    "auc = roc_auc_score(y_test, y_pred)\n",
    "f1 = f1_score(y_test, y_pred)\n",
    "\n",
    "print(\"The test accuracy score is \", acc)\n",
    "print(\"The test AUC score is\", auc)\n",
    "print(\"The test F1 score is\", f1)\n",
    "\n",
    "a_series = pd.Series([\"KNN\", acc, auc, f1], index = acc_df.columns)\n",
    "acc_df = acc_df.append(a_series, ignore_index=True)"
   ]
  },
  {
   "cell_type": "markdown",
   "id": "bbd773cf",
   "metadata": {
    "papermill": {
     "duration": 0.039536,
     "end_time": "2022-01-19T17:32:32.454716",
     "exception": false,
     "start_time": "2022-01-19T17:32:32.415180",
     "status": "completed"
    },
    "tags": []
   },
   "source": [
    "**Gradient Boosting** for classification.\n",
    "\n",
    "GB builds an additive model in a forward stage-wise fashion; it allows for the optimization of arbitrary differentiable loss functions. In each stage n_classes_ regression trees are fit on the negative gradient of the binomial or multinomial deviance loss function. Binary classification is a special case where only a single regression tree is induced."
   ]
  },
  {
   "cell_type": "code",
   "execution_count": 23,
   "id": "bfa9a5fe",
   "metadata": {
    "execution": {
     "iopub.execute_input": "2022-01-19T17:32:32.545023Z",
     "iopub.status.busy": "2022-01-19T17:32:32.544292Z",
     "iopub.status.idle": "2022-01-19T17:32:32.657112Z",
     "shell.execute_reply": "2022-01-19T17:32:32.656523Z",
     "shell.execute_reply.started": "2022-01-19T16:08:35.256860Z"
    },
    "papermill": {
     "duration": 0.162663,
     "end_time": "2022-01-19T17:32:32.657296",
     "exception": false,
     "start_time": "2022-01-19T17:32:32.494633",
     "status": "completed"
    },
    "tags": []
   },
   "outputs": [
    {
     "name": "stdout",
     "output_type": "stream",
     "text": [
      "The test accuracy score is  0.9130434782608695\n",
      "The test AUC score is 0.9128787878787878\n",
      "The test F1 score is 0.9090909090909091\n"
     ]
    }
   ],
   "source": [
    "from sklearn.ensemble import GradientBoostingClassifier\n",
    "\n",
    "model = GradientBoostingClassifier(n_estimators=200, learning_rate=0.05, max_depth=1).fit(x_train, y_train) \n",
    "y_pred = model.predict(x_test)\n",
    "\n",
    "acc = accuracy_score(y_test, y_pred)\n",
    "auc = roc_auc_score(y_test, y_pred)\n",
    "f1 = f1_score(y_test, y_pred)\n",
    "\n",
    "print(\"The test accuracy score is \", acc)\n",
    "print(\"The test AUC score is\", auc)\n",
    "print(\"The test F1 score is\", f1)\n",
    "\n",
    "a_series = pd.Series([\"GradientBoosting\", acc, auc, f1], index = acc_df.columns)\n",
    "acc_df = acc_df.append(a_series, ignore_index=True)"
   ]
  },
  {
   "cell_type": "code",
   "execution_count": 24,
   "id": "6bf129bf",
   "metadata": {
    "execution": {
     "iopub.execute_input": "2022-01-19T17:32:32.750210Z",
     "iopub.status.busy": "2022-01-19T17:32:32.749435Z",
     "iopub.status.idle": "2022-01-19T17:32:32.753702Z",
     "shell.execute_reply": "2022-01-19T17:32:32.753124Z",
     "shell.execute_reply.started": "2022-01-19T16:08:35.377632Z"
    },
    "papermill": {
     "duration": 0.056275,
     "end_time": "2022-01-19T17:32:32.753858",
     "exception": false,
     "start_time": "2022-01-19T17:32:32.697583",
     "status": "completed"
    },
    "tags": []
   },
   "outputs": [
    {
     "data": {
      "text/html": [
       "<div>\n",
       "<style scoped>\n",
       "    .dataframe tbody tr th:only-of-type {\n",
       "        vertical-align: middle;\n",
       "    }\n",
       "\n",
       "    .dataframe tbody tr th {\n",
       "        vertical-align: top;\n",
       "    }\n",
       "\n",
       "    .dataframe thead th {\n",
       "        text-align: right;\n",
       "    }\n",
       "</style>\n",
       "<table border=\"1\" class=\"dataframe\">\n",
       "  <thead>\n",
       "    <tr style=\"text-align: right;\">\n",
       "      <th></th>\n",
       "      <th>Name</th>\n",
       "      <th>Accuracy_score</th>\n",
       "      <th>AUC_score</th>\n",
       "      <th>F1_score</th>\n",
       "    </tr>\n",
       "  </thead>\n",
       "  <tbody>\n",
       "    <tr>\n",
       "      <th>0</th>\n",
       "      <td>SVC</td>\n",
       "      <td>0.869565</td>\n",
       "      <td>0.869318</td>\n",
       "      <td>0.863636</td>\n",
       "    </tr>\n",
       "    <tr>\n",
       "      <th>1</th>\n",
       "      <td>LogisticRegression</td>\n",
       "      <td>0.869565</td>\n",
       "      <td>0.871212</td>\n",
       "      <td>0.869565</td>\n",
       "    </tr>\n",
       "    <tr>\n",
       "      <th>2</th>\n",
       "      <td>GaussianNB</td>\n",
       "      <td>0.869565</td>\n",
       "      <td>0.869318</td>\n",
       "      <td>0.863636</td>\n",
       "    </tr>\n",
       "    <tr>\n",
       "      <th>3</th>\n",
       "      <td>BernoulliNB</td>\n",
       "      <td>0.956522</td>\n",
       "      <td>0.956439</td>\n",
       "      <td>0.954545</td>\n",
       "    </tr>\n",
       "    <tr>\n",
       "      <th>4</th>\n",
       "      <td>RandomForest</td>\n",
       "      <td>0.934783</td>\n",
       "      <td>0.933712</td>\n",
       "      <td>0.930233</td>\n",
       "    </tr>\n",
       "    <tr>\n",
       "      <th>5</th>\n",
       "      <td>KNN</td>\n",
       "      <td>0.891304</td>\n",
       "      <td>0.890152</td>\n",
       "      <td>0.883721</td>\n",
       "    </tr>\n",
       "    <tr>\n",
       "      <th>6</th>\n",
       "      <td>GradientBoosting</td>\n",
       "      <td>0.913043</td>\n",
       "      <td>0.912879</td>\n",
       "      <td>0.909091</td>\n",
       "    </tr>\n",
       "  </tbody>\n",
       "</table>\n",
       "</div>"
      ],
      "text/plain": [
       "                 Name  Accuracy_score  AUC_score  F1_score\n",
       "0                 SVC        0.869565   0.869318  0.863636\n",
       "1  LogisticRegression        0.869565   0.871212  0.869565\n",
       "2          GaussianNB        0.869565   0.869318  0.863636\n",
       "3         BernoulliNB        0.956522   0.956439  0.954545\n",
       "4        RandomForest        0.934783   0.933712  0.930233\n",
       "5                 KNN        0.891304   0.890152  0.883721\n",
       "6    GradientBoosting        0.913043   0.912879  0.909091"
      ]
     },
     "execution_count": 24,
     "metadata": {},
     "output_type": "execute_result"
    }
   ],
   "source": [
    "acc_df"
   ]
  },
  {
   "cell_type": "markdown",
   "id": "d8f5f5b3",
   "metadata": {
    "papermill": {
     "duration": 0.040442,
     "end_time": "2022-01-19T17:32:32.835671",
     "exception": false,
     "start_time": "2022-01-19T17:32:32.795229",
     "status": "completed"
    },
    "tags": []
   },
   "source": [
    "# **Conclusion**\n"
   ]
  },
  {
   "cell_type": "markdown",
   "id": "73055507",
   "metadata": {
    "papermill": {
     "duration": 0.041915,
     "end_time": "2022-01-19T17:32:32.918434",
     "exception": false,
     "start_time": "2022-01-19T17:32:32.876519",
     "status": "completed"
    },
    "tags": []
   },
   "source": [
    "In general, the models have good predictive values. The best guess among them is the BernoulliNB model, as it seems.\n",
    "\n",
    "# I tried to explain as best I could. If you've come this far and liked this review, don't forget to hit the arrow in the upper right corner. Hope to see you in different reviews."
   ]
  }
 ],
 "metadata": {
  "kernelspec": {
   "display_name": "Python 3 (ipykernel)",
   "language": "python",
   "name": "python3"
  },
  "language_info": {
   "codemirror_mode": {
    "name": "ipython",
    "version": 3
   },
   "file_extension": ".py",
   "mimetype": "text/x-python",
   "name": "python",
   "nbconvert_exporter": "python",
   "pygments_lexer": "ipython3",
   "version": "3.9.12"
  },
  "papermill": {
   "default_parameters": {},
   "duration": 19.516793,
   "end_time": "2022-01-19T17:32:33.871655",
   "environment_variables": {},
   "exception": null,
   "input_path": "__notebook__.ipynb",
   "output_path": "__notebook__.ipynb",
   "parameters": {},
   "start_time": "2022-01-19T17:32:14.354862",
   "version": "2.3.3"
  }
 },
 "nbformat": 4,
 "nbformat_minor": 5
}
